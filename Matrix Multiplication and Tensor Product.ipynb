{
 "cells": [
  {
   "cell_type": "markdown",
   "id": "2acea30b",
   "metadata": {},
   "source": [
    "### Exercise Topic: \"Matrix Multiplicatin and Tensor Product in quantum Circuit\",   Level: Bignner  "
   ]
  },
  {
   "cell_type": "code",
   "execution_count": 6,
   "id": "9f455e6b",
   "metadata": {},
   "outputs": [],
   "source": [
    "from qiskit import QuantumCircuit, Aer, assemble\n",
    "from math import pi, sqrt                                                               \n",
    "from qiskit.visualization import plot_bloch_multivector, plot_histogram, array_to_latex \n",
    "import numpy as np"
   ]
  },
  {
   "cell_type": "markdown",
   "id": "7005be7b",
   "metadata": {},
   "source": [
    "### Single Qubit"
   ]
  },
  {
   "cell_type": "code",
   "execution_count": 7,
   "id": "b0a70932",
   "metadata": {},
   "outputs": [
    {
     "data": {
      "text/latex": [
       "$$\n",
       "\\text{circuit=}\n",
       "\n",
       "\\begin{bmatrix}\n",
       "1 & 0  \\\\\n",
       " 0 & -i  \\\\\n",
       " \\end{bmatrix}\n",
       "$$"
      ],
      "text/plain": [
       "<IPython.core.display.Latex object>"
      ]
     },
     "execution_count": 7,
     "metadata": {},
     "output_type": "execute_result"
    },
    {
     "data": {
      "image/png": "[encoded data removed]",
      "text/plain": [
       "<Figure size 193.726x84.28 with 1 Axes>"
      ]
     },
     "metadata": {},
     "output_type": "display_data"
    }
   ],
   "source": [
    "# example 1\n",
    "qc=QuantumCircuit(1)\n",
    "qc.z(0)\n",
    "qc.s(0)\n",
    "\n",
    "# Visualization\n",
    "style = {'backgroundcolor': 'pink'}\n",
    "qc.draw(output='mpl',style = style)\n",
    "\n",
    "# Matrix\n",
    "svsim = Aer.get_backend('aer_simulator')\n",
    "qc.save_unitary()\n",
    "qobj = assemble(qc)\n",
    "unitary = svsim.run(qobj).result().get_unitary()\n",
    "array_to_latex(unitary,prefix=\"\\\\text{circuit=}\\n\")"
   ]
  },
  {
   "cell_type": "code",
   "execution_count": 8,
   "id": "836ed91d",
   "metadata": {},
   "outputs": [],
   "source": [
    "# Matrix Breakdown\n"
   ]
  },
  {
   "cell_type": "code",
   "execution_count": null,
   "id": "e36dd771",
   "metadata": {},
   "outputs": [],
   "source": []
  },
  {
   "cell_type": "code",
   "execution_count": 28,
   "id": "fe8b1384",
   "metadata": {},
   "outputs": [
    {
     "data": {
      "text/latex": [
       "$$\n",
       "\\text{circuit=}\n",
       "\n",
       "\\begin{bmatrix}\n",
       "-\\tfrac{1}{\\sqrt{2}}i & -\\tfrac{1}{\\sqrt{2}}i  \\\\\n",
       " \\tfrac{1}{\\sqrt{2}}i & -\\tfrac{1}{\\sqrt{2}}i  \\\\\n",
       " \\end{bmatrix}\n",
       "$$"
      ],
      "text/plain": [
       "<IPython.core.display.Latex object>"
      ]
     },
     "execution_count": 28,
     "metadata": {},
     "output_type": "execute_result"
    },
    {
     "data": {
      "image/png": "[encoded data removed]",
      "text/plain": [
       "<Figure size 253.926x84.28 with 1 Axes>"
      ]
     },
     "metadata": {},
     "output_type": "display_data"
    }
   ],
   "source": [
    "# example 2\n",
    "qc=QuantumCircuit(1)\n",
    "qc.h(0)\n",
    "qc.x(0)\n",
    "qc.y(0)\n",
    "\n",
    "# Visualization\n",
    "style = {'backgroundcolor': 'pink'}\n",
    "qc.draw(output='mpl',style = style)\n",
    "\n",
    "# Matrix\n",
    "svsim = Aer.get_backend('aer_simulator')\n",
    "qc.save_unitary()\n",
    "qobj = assemble(qc)\n",
    "unitary = svsim.run(qobj).result().get_unitary()\n",
    "array_to_latex(unitary,prefix=\"\\\\text{circuit=}\\n\")"
   ]
  },
  {
   "cell_type": "code",
   "execution_count": 10,
   "id": "e33c1f08",
   "metadata": {},
   "outputs": [],
   "source": [
    "# Matrix Braekdown"
   ]
  },
  {
   "cell_type": "code",
   "execution_count": null,
   "id": "bf0e51e4",
   "metadata": {},
   "outputs": [],
   "source": []
  },
  {
   "cell_type": "code",
   "execution_count": 29,
   "id": "344674f0",
   "metadata": {},
   "outputs": [
    {
     "data": {
      "text/latex": [
       "$$\n",
       "\\text{circuit=}\n",
       "\n",
       "\\begin{bmatrix}\n",
       "1 & 0  \\\\\n",
       " 0 & \\tfrac{1}{\\sqrt{2}}(1 + i)  \\\\\n",
       " \\end{bmatrix}\n",
       "$$"
      ],
      "text/plain": [
       "<IPython.core.display.Latex object>"
      ]
     },
     "execution_count": 29,
     "metadata": {},
     "output_type": "execute_result"
    },
    {
     "data": {
      "image/png": "[encoded data removed]",
      "text/plain": [
       "<Figure size 193.726x84.28 with 1 Axes>"
      ]
     },
     "metadata": {},
     "output_type": "display_data"
    }
   ],
   "source": [
    "# example 3\n",
    "qc=QuantumCircuit(1)\n",
    "qc.s(0)\n",
    "qc.tdg(0)\n",
    "\n",
    "# Visualization\n",
    "style = {'backgroundcolor': 'pink'}\n",
    "qc.draw(output='mpl',style = style)\n",
    "\n",
    "# Matrix\n",
    "svsim = Aer.get_backend('aer_simulator')\n",
    "qc.save_unitary()\n",
    "qobj = assemble(qc)\n",
    "unitary = svsim.run(qobj).result().get_unitary()\n",
    "array_to_latex(unitary,prefix=\"\\\\text{circuit=}\\n\")"
   ]
  },
  {
   "cell_type": "code",
   "execution_count": 12,
   "id": "fcb5fe0a",
   "metadata": {},
   "outputs": [],
   "source": [
    "# Matrix Braekdown"
   ]
  },
  {
   "cell_type": "code",
   "execution_count": null,
   "id": "af8128d9",
   "metadata": {},
   "outputs": [],
   "source": []
  },
  {
   "cell_type": "code",
   "execution_count": 30,
   "id": "d9a2aa9f",
   "metadata": {},
   "outputs": [
    {
     "data": {
      "text/latex": [
       "$$\n",
       "\\text{circuit=}\n",
       "\n",
       "\\begin{bmatrix}\n",
       "-\\sqrt{\\tfrac{3}{4}}i & -\\tfrac{1}{2}  \\\\\n",
       " \\tfrac{1}{2}i & -\\sqrt{\\tfrac{3}{4}}  \\\\\n",
       " \\end{bmatrix}\n",
       "$$"
      ],
      "text/plain": [
       "<IPython.core.display.Latex object>"
      ]
     },
     "execution_count": 30,
     "metadata": {},
     "output_type": "execute_result"
    },
    {
     "data": {
      "image/png": "[encoded data removed]",
      "text/plain": [
       "<Figure size 253.926x84.28 with 1 Axes>"
      ]
     },
     "metadata": {},
     "output_type": "display_data"
    }
   ],
   "source": [
    "# Example 4\n",
    "qc=QuantumCircuit(1)\n",
    "qc.p(pi/2,0)\n",
    "qc.ry(pi/3,0)\n",
    "qc.rz(pi,0)\n",
    "\n",
    "# Visualization\n",
    "style = {'backgroundcolor': 'pink'}\n",
    "qc.draw(output='mpl',style = style)\n",
    "\n",
    "# Matrix\n",
    "svsim = Aer.get_backend('aer_simulator')\n",
    "qc.save_unitary()\n",
    "qobj = assemble(qc)\n",
    "unitary = svsim.run(qobj).result().get_unitary()\n",
    "array_to_latex(unitary,prefix=\"\\\\text{circuit=}\\n\")"
   ]
  },
  {
   "cell_type": "code",
   "execution_count": 14,
   "id": "03e5dcf1",
   "metadata": {},
   "outputs": [],
   "source": [
    "# Matrix Breakdown"
   ]
  },
  {
   "cell_type": "code",
   "execution_count": null,
   "id": "8bc45a58",
   "metadata": {},
   "outputs": [],
   "source": []
  },
  {
   "cell_type": "code",
   "execution_count": 31,
   "id": "fa8e3dbb",
   "metadata": {},
   "outputs": [
    {
     "data": {
      "text/latex": [
       "$$\n",
       "\\text{circuit=}\n",
       "\n",
       "\\begin{bmatrix}\n",
       "\\tfrac{1}{2}(1 - i) & \\tfrac{1}{2}(1 - i)  \\\\\n",
       " \\tfrac{1}{2}(-1 + i) & \\tfrac{1}{2}(1 - i)  \\\\\n",
       " \\end{bmatrix}\n",
       "$$"
      ],
      "text/plain": [
       "<IPython.core.display.Latex object>"
      ]
     },
     "execution_count": 31,
     "metadata": {},
     "output_type": "execute_result"
    },
    {
     "data": {
      "image/png": "[encoded data removed]",
      "text/plain": [
       "<Figure size 314.126x84.28 with 1 Axes>"
      ]
     },
     "metadata": {},
     "output_type": "display_data"
    }
   ],
   "source": [
    "# Example 5\n",
    "qc=QuantumCircuit(1)\n",
    "qc.rz(pi,0)\n",
    "qc.sdg(0)\n",
    "qc.sx(0)\n",
    "qc.sdg(0)\n",
    "\n",
    "# Visualization\n",
    "style = {'backgroundcolor': 'pink'}\n",
    "qc.draw(output='mpl',style = style)\n",
    "\n",
    "# Matrix\n",
    "svsim = Aer.get_backend('aer_simulator')\n",
    "qc.save_unitary()\n",
    "qobj = assemble(qc)\n",
    "unitary = svsim.run(qobj).result().get_unitary()\n",
    "array_to_latex(unitary,prefix=\"\\\\text{circuit=}\\n\")"
   ]
  },
  {
   "cell_type": "code",
   "execution_count": 16,
   "id": "e48da611",
   "metadata": {},
   "outputs": [],
   "source": [
    "# Matrix Breakdown"
   ]
  },
  {
   "cell_type": "code",
   "execution_count": null,
   "id": "eb2a3a08",
   "metadata": {},
   "outputs": [],
   "source": []
  },
  {
   "cell_type": "markdown",
   "id": "cf0ae848",
   "metadata": {},
   "source": [
    "### Double Qubit"
   ]
  },
  {
   "cell_type": "code",
   "execution_count": 17,
   "id": "2d808c7d",
   "metadata": {},
   "outputs": [
    {
     "data": {
      "text/latex": [
       "$$\n",
       "\\text{circuit=}\n",
       "\n",
       "\\begin{bmatrix}\n",
       "\\tfrac{1}{\\sqrt{2}} & \\tfrac{1}{\\sqrt{2}} & 0 & 0  \\\\\n",
       " 0 & 0 & \\tfrac{1}{\\sqrt{2}} & -\\tfrac{1}{\\sqrt{2}}  \\\\\n",
       " 0 & 0 & \\tfrac{1}{\\sqrt{2}} & \\tfrac{1}{\\sqrt{2}}  \\\\\n",
       " \\tfrac{1}{\\sqrt{2}} & -\\tfrac{1}{\\sqrt{2}} & 0 & 0  \\\\\n",
       " \\end{bmatrix}\n",
       "$$"
      ],
      "text/plain": [
       "<IPython.core.display.Latex object>"
      ]
     },
     "execution_count": 17,
     "metadata": {},
     "output_type": "execute_result"
    },
    {
     "data": {
      "image/png": "[encoded data removed]",
      "text/plain": [
       "<Figure size 206.852x144.48 with 1 Axes>"
      ]
     },
     "metadata": {},
     "output_type": "display_data"
    }
   ],
   "source": [
    "# Example 1\n",
    "qc=QuantumCircuit(2)\n",
    "qc.h(0)\n",
    "qc.cx(0,1)\n",
    "\n",
    "# Visualization\n",
    "style = {'backgroundcolor': 'pink'}\n",
    "qc.draw(output='mpl',style = style)\n",
    "\n",
    "# Matrix\n",
    "svsim = Aer.get_backend('aer_simulator')\n",
    "qc.save_unitary()\n",
    "qobj = assemble(qc)\n",
    "unitary = svsim.run(qobj).result().get_unitary()\n",
    "array_to_latex(unitary,prefix=\"\\\\text{circuit=}\\n\")"
   ]
  },
  {
   "cell_type": "code",
   "execution_count": 18,
   "id": "eb437bfb",
   "metadata": {},
   "outputs": [],
   "source": [
    "# Matrix Breakdown"
   ]
  },
  {
   "cell_type": "code",
   "execution_count": null,
   "id": "a573de84",
   "metadata": {},
   "outputs": [],
   "source": []
  },
  {
   "cell_type": "code",
   "execution_count": 19,
   "id": "f7ccea1c",
   "metadata": {},
   "outputs": [
    {
     "data": {
      "text/latex": [
       "$$\n",
       "\\text{circuit=}\n",
       "\n",
       "\\begin{bmatrix}\n",
       "\\tfrac{1}{2} & -\\tfrac{1}{2} & -\\tfrac{1}{2} & \\tfrac{1}{2}  \\\\\n",
       " \\tfrac{1}{2} & \\tfrac{1}{2} & \\tfrac{1}{2} & \\tfrac{1}{2}  \\\\\n",
       " -\\tfrac{1}{2} & \\tfrac{1}{2} & -\\tfrac{1}{2} & \\tfrac{1}{2}  \\\\\n",
       " -\\tfrac{1}{2} & -\\tfrac{1}{2} & \\tfrac{1}{2} & \\tfrac{1}{2}  \\\\\n",
       " \\end{bmatrix}\n",
       "$$"
      ],
      "text/plain": [
       "<IPython.core.display.Latex object>"
      ]
     },
     "execution_count": 19,
     "metadata": {},
     "output_type": "execute_result"
    },
    {
     "data": {
      "image/png": "[encoded data removed]",
      "text/plain": [
       "<Figure size 267.052x144.48 with 1 Axes>"
      ]
     },
     "metadata": {},
     "output_type": "display_data"
    }
   ],
   "source": [
    "# Example 2\n",
    "qc=QuantumCircuit(2)\n",
    "qc.h(0)\n",
    "qc.h(1)\n",
    "qc.cx(0,1)\n",
    "qc.x(0)\n",
    "qc.z(1)\n",
    "\n",
    "# Visualization\n",
    "style = {'backgroundcolor': 'white'}\n",
    "qc.draw(output='mpl',style = style)\n",
    "\n",
    "# Matrix\n",
    "svsim = Aer.get_backend('aer_simulator')\n",
    "qc.save_unitary()\n",
    "qobj = assemble(qc)\n",
    "unitary = svsim.run(qobj).result().get_unitary()\n",
    "array_to_latex(unitary,prefix=\"\\\\text{circuit=}\\n\")"
   ]
  },
  {
   "cell_type": "code",
   "execution_count": 20,
   "id": "38332a99",
   "metadata": {},
   "outputs": [],
   "source": [
    "# Matrix Breakdown"
   ]
  },
  {
   "cell_type": "code",
   "execution_count": null,
   "id": "5a560628",
   "metadata": {},
   "outputs": [],
   "source": []
  },
  {
   "cell_type": "code",
   "execution_count": 21,
   "id": "994a1352",
   "metadata": {},
   "outputs": [
    {
     "data": {
      "text/latex": [
       "$$\n",
       "\\text{circuit=}\n",
       "\n",
       "\\begin{bmatrix}\n",
       "\\tfrac{1}{2} & -\\tfrac{1}{2} & -\\tfrac{1}{2} & \\tfrac{1}{2}  \\\\\n",
       " \\tfrac{1}{2} & \\tfrac{1}{2} & \\tfrac{1}{2} & \\tfrac{1}{2}  \\\\\n",
       " -\\tfrac{1}{2} & \\tfrac{1}{2} & -\\tfrac{1}{2} & \\tfrac{1}{2}  \\\\\n",
       " -\\tfrac{1}{2} & -\\tfrac{1}{2} & \\tfrac{1}{2} & \\tfrac{1}{2}  \\\\\n",
       " \\end{bmatrix}\n",
       "$$"
      ],
      "text/plain": [
       "<IPython.core.display.Latex object>"
      ]
     },
     "execution_count": 21,
     "metadata": {},
     "output_type": "execute_result"
    },
    {
     "data": {
      "image/png": "[encoded data removed]",
      "text/plain": [
       "<Figure size 267.052x144.48 with 1 Axes>"
      ]
     },
     "metadata": {},
     "output_type": "display_data"
    }
   ],
   "source": [
    "# Example 3\n",
    "qc=QuantumCircuit(2)\n",
    "qc.h(0)\n",
    "qc.h(1)\n",
    "qc.cx(0,1)\n",
    "qc.x(0)\n",
    "qc.z(1)\n",
    "\n",
    "# Visualization\n",
    "style = {'backgroundcolor': 'white'}\n",
    "qc.draw(output='mpl',style = style)\n",
    "\n",
    "# Matrix\n",
    "svsim = Aer.get_backend('aer_simulator')\n",
    "qc.save_unitary()\n",
    "qobj = assemble(qc)\n",
    "unitary = svsim.run(qobj).result().get_unitary()\n",
    "array_to_latex(unitary,prefix=\"\\\\text{circuit=}\\n\")"
   ]
  },
  {
   "cell_type": "code",
   "execution_count": 22,
   "id": "07072c69",
   "metadata": {},
   "outputs": [],
   "source": [
    "# Matrix breakdown"
   ]
  },
  {
   "cell_type": "code",
   "execution_count": null,
   "id": "073d93d4",
   "metadata": {},
   "outputs": [],
   "source": []
  },
  {
   "cell_type": "code",
   "execution_count": 23,
   "id": "f9e07726",
   "metadata": {},
   "outputs": [
    {
     "data": {
      "text/latex": [
       "$$\n",
       "\\text{circuit=}\n",
       "\n",
       "\\begin{bmatrix}\n",
       "\\tfrac{1}{2} & -\\tfrac{1}{2} & -\\tfrac{1}{2} & \\tfrac{1}{2}  \\\\\n",
       " \\tfrac{1}{2} & \\tfrac{1}{2} & \\tfrac{1}{2} & \\tfrac{1}{2}  \\\\\n",
       " -\\tfrac{1}{2} & \\tfrac{1}{2} & -\\tfrac{1}{2} & \\tfrac{1}{2}  \\\\\n",
       " -\\tfrac{1}{2} & -\\tfrac{1}{2} & \\tfrac{1}{2} & \\tfrac{1}{2}  \\\\\n",
       " \\end{bmatrix}\n",
       "$$"
      ],
      "text/plain": [
       "<IPython.core.display.Latex object>"
      ]
     },
     "execution_count": 23,
     "metadata": {},
     "output_type": "execute_result"
    },
    {
     "data": {
      "image/png": "[encoded data removed]",
      "text/plain": [
       "<Figure size 267.052x144.48 with 1 Axes>"
      ]
     },
     "metadata": {},
     "output_type": "display_data"
    }
   ],
   "source": [
    "# example 4\n",
    "qc=QuantumCircuit(2)\n",
    "qc.h(0)\n",
    "qc.h(1)\n",
    "qc.cx(0,1)\n",
    "qc.x(0)\n",
    "qc.z(1)\n",
    "\n",
    "# Visualization\n",
    "style = {'backgroundcolor': 'white'}\n",
    "qc.draw(output='mpl',style = style)\n",
    "\n",
    "# Matrix\n",
    "svsim = Aer.get_backend('aer_simulator')\n",
    "qc.save_unitary()\n",
    "qobj = assemble(qc)\n",
    "unitary = svsim.run(qobj).result().get_unitary()\n",
    "array_to_latex(unitary,prefix=\"\\\\text{circuit=}\\n\")"
   ]
  },
  {
   "cell_type": "code",
   "execution_count": 24,
   "id": "25054bad",
   "metadata": {},
   "outputs": [],
   "source": [
    "# Matrix Breakdown"
   ]
  },
  {
   "cell_type": "code",
   "execution_count": null,
   "id": "26662207",
   "metadata": {},
   "outputs": [],
   "source": []
  },
  {
   "cell_type": "code",
   "execution_count": 25,
   "id": "15dd89ca",
   "metadata": {},
   "outputs": [
    {
     "data": {
      "text/latex": [
       "$$\n",
       "\\text{circuit=}\n",
       "\n",
       "\\begin{bmatrix}\n",
       "0 & 0 & 0 & 1  \\\\\n",
       " 0 & 1 & 0 & 0  \\\\\n",
       " 0 & 0 & i & 0  \\\\\n",
       " 1 & 0 & 0 & 0  \\\\\n",
       " \\end{bmatrix}\n",
       "$$"
      ],
      "text/plain": [
       "<IPython.core.display.Latex object>"
      ]
     },
     "execution_count": 25,
     "metadata": {},
     "output_type": "execute_result"
    },
    {
     "data": {
      "image/png": "[encoded data removed]",
      "text/plain": [
       "<Figure size 447.652x144.48 with 1 Axes>"
      ]
     },
     "metadata": {},
     "output_type": "display_data"
    }
   ],
   "source": [
    "# example 5\n",
    "qc=QuantumCircuit(2)\n",
    "qc.x([0,1])\n",
    "qc.t(0)\n",
    "qc.tdg(1)\n",
    "qc.cx(0,1)\n",
    "qc.cx(1,0)\n",
    "qc.t(1)\n",
    "qc.cx(0,1)\n",
    "\n",
    "# Visualization\n",
    "style = {'backgroundcolor': 'pink'}\n",
    "qc.draw(output='mpl',style = style)\n",
    "\n",
    "# Matrix\n",
    "svsim = Aer.get_backend('aer_simulator')\n",
    "qc.save_unitary()\n",
    "qobj = assemble(qc)\n",
    "unitary = svsim.run(qobj).result().get_unitary()\n",
    "array_to_latex(unitary,prefix=\"\\\\text{circuit=}\\n\")"
   ]
  },
  {
   "cell_type": "code",
   "execution_count": 26,
   "id": "acc46220",
   "metadata": {},
   "outputs": [],
   "source": [
    "# Matrix Breakdown"
   ]
  },
  {
   "cell_type": "code",
   "execution_count": null,
   "id": "f364e489",
   "metadata": {},
   "outputs": [],
   "source": []
  },
  {
   "cell_type": "markdown",
   "id": "04ab8548",
   "metadata": {},
   "source": [
    "### Three Qubits"
   ]
  },
  {
   "cell_type": "code",
   "execution_count": 27,
   "id": "71131c73",
   "metadata": {},
   "outputs": [
    {
     "data": {
      "text/latex": [
       "$$\n",
       "\\text{circuit=}\n",
       "\n",
       "\\begin{bmatrix}\n",
       "0 & 1 & 0 & 0 & 0 & 0 & 0 & 0  \\\\\n",
       " 1 & 0 & 0 & 0 & 0 & 0 & 0 & 0  \\\\\n",
       " 0 & 0 & 0 & -1 & 0 & 0 & 0 & 0  \\\\\n",
       " 0 & 0 & -1 & 0 & 0 & 0 & 0 & 0  \\\\\n",
       " 0 & 0 & 0 & 0 & 0 & 1 & 0 & 0  \\\\\n",
       " 0 & 0 & 0 & 0 & 1 & 0 & 0 & 0  \\\\\n",
       " 0 & 0 & 0 & 0 & 0 & 0 & 0 & -1  \\\\\n",
       " 0 & 0 & 0 & 0 & 0 & 0 & -1 & 0  \\\\\n",
       " \\end{bmatrix}\n",
       "$$"
      ],
      "text/plain": [
       "<IPython.core.display.Latex object>"
      ]
     },
     "execution_count": 27,
     "metadata": {},
     "output_type": "execute_result"
    },
    {
     "data": {
      "image/png": "[encoded data removed]",
      "text/plain": [
       "<Figure size 146.797x204.68 with 1 Axes>"
      ]
     },
     "metadata": {},
     "output_type": "display_data"
    }
   ],
   "source": [
    "# example 1\n",
    "qc=QuantumCircuit(3)\n",
    "qc.x(0)\n",
    "qc.z(1)\n",
    "\n",
    "# Visualization\n",
    "style = {'backgroundcolor': 'pink'}\n",
    "qc.draw(output='mpl',style = style)\n",
    "\n",
    "# Matrix\n",
    "svsim = Aer.get_backend('aer_simulator')\n",
    "qc.save_unitary()\n",
    "qobj = assemble(qc)\n",
    "unitary = svsim.run(qobj).result().get_unitary()\n",
    "array_to_latex(unitary,prefix=\"\\\\text{circuit=}\\n\")"
   ]
  },
  {
   "cell_type": "code",
   "execution_count": null,
   "id": "9d45406f",
   "metadata": {},
   "outputs": [],
   "source": [
    "# MAtrix Breakdown"
   ]
  },
  {
   "cell_type": "code",
   "execution_count": null,
   "id": "e5883b1c",
   "metadata": {},
   "outputs": [],
   "source": []
  },
  {
   "cell_type": "code",
   "execution_count": null,
   "id": "c212543c",
   "metadata": {},
   "outputs": [],
   "source": []
  },
  {
   "cell_type": "code",
   "execution_count": null,
   "id": "fa9206c7",
   "metadata": {},
   "outputs": [],
   "source": []
  },
  {
   "cell_type": "code",
   "execution_count": null,
   "id": "b7b16875",
   "metadata": {},
   "outputs": [],
   "source": []
  },
  {
   "cell_type": "code",
   "execution_count": null,
   "id": "ebac36a6",
   "metadata": {},
   "outputs": [],
   "source": []
  },
  {
   "cell_type": "code",
   "execution_count": null,
   "id": "e0139b03",
   "metadata": {},
   "outputs": [],
   "source": []
  },
  {
   "cell_type": "code",
   "execution_count": null,
   "id": "7d72bba4",
   "metadata": {},
   "outputs": [],
   "source": []
  },
  {
   "cell_type": "code",
   "execution_count": null,
   "id": "d4ad6745",
   "metadata": {},
   "outputs": [],
   "source": []
  },
  {
   "cell_type": "code",
   "execution_count": null,
   "id": "d8195972",
   "metadata": {},
   "outputs": [],
   "source": []
  },
  {
   "cell_type": "code",
   "execution_count": null,
   "id": "20b6394b",
   "metadata": {},
   "outputs": [],
   "source": []
  },
  {
   "cell_type": "code",
   "execution_count": null,
   "id": "a9240691",
   "metadata": {},
   "outputs": [],
   "source": []
  },
  {
   "cell_type": "code",
   "execution_count": null,
   "id": "3909c2d9",
   "metadata": {},
   "outputs": [],
   "source": []
  }
 ],
 "metadata": {
  "kernelspec": {
   "display_name": "Python 3 (ipykernel)",
   "language": "python",
   "name": "python3"
  },
  "language_info": {
   "codemirror_mode": {
    "name": "ipython",
    "version": 3
   },
   "file_extension": ".py",
   "mimetype": "text/x-python",
   "name": "python",
   "nbconvert_exporter": "python",
   "pygments_lexer": "ipython3",
   "version": "3.9.6"
  }
 },
 "nbformat": 4,
 "nbformat_minor": 5
}
